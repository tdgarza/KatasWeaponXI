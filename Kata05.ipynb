{
 "cells": [
  {
   "cell_type": "markdown",
   "metadata": {},
   "source": [
    "# Ejercicio1 - Utilizar operadores aritméticos"
   ]
  },
  {
   "cell_type": "markdown",
   "metadata": {},
   "source": [
    "Operadores aritméticos en Python\n",
    "\n",
    "Python proporciona operadores aritméticos comunes para que puedas realizar operaciones matemáticas en tu código. Estos incluyen las cuatro operaciones principales de suma, resta, multiplicación y división.\n",
    "\n",
    "Exploremos cómo podemos crear un programa que pueda calcular la distancia entre dos planetas. Comenzaremos usando dos distancias de planetas: Tierra (149.597.870 km) y Júpiter (778.547.200 km).\n",
    "\n",
    "TIP Dedica unos minutos a tratar de encontrar una solución. Luego desplázate hacia abajo hasta la parte inferior para ver si has logrado compilar el programa de acuerdo con las especificaciones.\n",
    "\n",
    "Nota: Quita las comas cuando uses los valores."
   ]
  },
  {
   "cell_type": "code",
   "execution_count": 151,
   "metadata": {},
   "outputs": [],
   "source": [
    "# Crear variables para almacenar las dos distancias\n",
    "# ¡Asegúrate de quitar las comas!\n",
    "distanciatierra=149597870\n",
    "distanciajupiter=778547200\n"
   ]
  },
  {
   "cell_type": "markdown",
   "metadata": {},
   "source": [
    "Realizar la operación\n",
    "\n",
    "Con los valores obtenidos, es el momento de añadir el código para realizar la operación. Restarás el primer planeta del segundo para determinar la distancia en kilómetros. A continuación, puedes convertir la distancia del kilómetro en millas multiplicándola por 0.621."
   ]
  },
  {
   "cell_type": "code",
   "execution_count": 152,
   "metadata": {},
   "outputs": [
    {
     "name": "stdout",
     "output_type": "stream",
     "text": [
      "390577534\n",
      "628949330\n"
     ]
    }
   ],
   "source": [
    "# Calcular la distancia entre planetas\n",
    "distanciakm=int(distanciajupiter-distanciatierra)\n",
    "#distanciami=int(distanciakm*.621)\n",
    "print(str(round(distanciakm*.621)) +'\\n' +str(distanciakm))"
   ]
  },
  {
   "cell_type": "markdown",
   "metadata": {},
   "source": [
    "# Ejercicio 2: convierte cadenas en números y usa valores absolutos\n",
    "### Crear una aplicación para trabajar con números y entrada de usuario\n",
    "Con frecuencia, deberás convertir los valores de cadena en números para realizar correctamente diferentes operaciones o determinar el valor absoluto de un número.\n",
    "\n",
    "Para crear nuestra aplicación, queremos leer la distancia del sol para dos planetas, y luego mostrar la distancia entre los planetas. Haremos esto usando input para leer los valores, int para convertir a entero y luego abs para convertir el resultado en su valor absoluto.\n",
    "\n",
    "### Lee los valores\n",
    "\n",
    "Usando input, agrega el código para leer la distancia del sol para cada planeta, considerando 2 planetas."
   ]
  },
  {
   "cell_type": "code",
   "execution_count": 153,
   "metadata": {},
   "outputs": [
    {
     "name": "stdout",
     "output_type": "stream",
     "text": [
      "629000000 KM\n",
      "390609000.0 mi\n"
     ]
    }
   ],
   "source": [
    "# Almacenar las entradas del usuario\n",
    "#Pista: variable = input(\"¿Cuál es tu nombre?\")\n",
    "# Convierte las cadenas de ambos planetas a números enteros\n",
    "planeta1=input(\"Escoje tu primer planeta\")\n",
    "planeta2=input(\"Escoje tu segundo planeta\")\n",
    "\n",
    "if planeta1==\"Mercurio\" or planeta1==\"mercurio\":\n",
    "    planeta1=57900000   \n",
    "if planeta1==\"Venus\" or planeta1==\"venus\":\n",
    "    planeta1=108200000\n",
    "if planeta1==\"Tierra\" or planeta1==\"tierra\":\n",
    "    planeta1=149600000\n",
    "if planeta1==\"Marte\" or planeta1==\"marte\":\n",
    "    planeta1=227900000\n",
    "if planeta1==\"Jupiter\" or planeta1==\"jupiter\":\n",
    "    planeta1=778600000\n",
    "if planeta1==\"Saturno\" or planeta1==\"saturno\":\n",
    "    planeta1=1433500000\n",
    "if planeta1==\"Urano\" or planeta1==\"urano\":\n",
    "    planeta1=2872500000\n",
    "if planeta1==\"Neptuno\" or planeta1==\"neptuno\":\n",
    "    planeta1=4495100000\n",
    "\n",
    "if planeta2==\"Mercurio\" or planeta2==\"mercurio\":\n",
    "    planeta2=57900000   \n",
    "if planeta2==\"Venus\" or planeta2==\"venus\":\n",
    "    planeta2=108200000\n",
    "if planeta2==\"Tierra\" or planeta2==\"tierra\":\n",
    "    planeta2=149600000\n",
    "if planeta2==\"Marte\" or planeta2==\"marte\":\n",
    "    planeta2=227900000\n",
    "if planeta2==\"Jupiter\" or planeta2==\"jupiter\":\n",
    "    planeta2=778600000\n",
    "if planeta1==\"Saturno\" or planeta2==\"saturno\":\n",
    "    planeta2=1433500000\n",
    "if planeta2==\"Urano\" or planeta2==\"urano\":\n",
    "    planeta2=2872500000\n",
    "if planeta2==\"Neptuno\" or planeta2==\"neptuno\":\n",
    "    planeta2=4495100000\n",
    "\n",
    "distancia=planeta1-planeta2\n",
    "print(str(abs(distancia)) + \" KM\" +'\\n' + str(abs(distancia*.621))+ \" mi\")\n",
    "#distancia=abs(planeta1-planeta2)\n",
    "# Realizar el cálculo y determinar el valor absoluto\n",
    "# Convertir de KM a Millas\n",
    "\n",
    "\n"
   ]
  }
 ],
 "metadata": {
  "interpreter": {
   "hash": "aee8b7b246df8f9039afb4144a1f6fd8d2ca17a180786b69acc140d282b71a49"
  },
  "kernelspec": {
   "display_name": "Python 3.10.2 64-bit",
   "language": "python",
   "name": "python3"
  },
  "language_info": {
   "codemirror_mode": {
    "name": "ipython",
    "version": 3
   },
   "file_extension": ".py",
   "mimetype": "text/x-python",
   "name": "python",
   "nbconvert_exporter": "python",
   "pygments_lexer": "ipython3",
   "version": "3.10.2"
  },
  "orig_nbformat": 4
 },
 "nbformat": 4,
 "nbformat_minor": 2
}
