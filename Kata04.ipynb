{
 "cells": [
  {
   "cell_type": "markdown",
   "metadata": {},
   "source": [
    "# Ejercicio 1: Transformar cadenas"
   ]
  },
  {
   "cell_type": "markdown",
   "metadata": {},
   "source": [
    "Primero, divide el texto en cada oración para trabajar con su contenido:"
   ]
  },
  {
   "cell_type": "code",
   "execution_count": 367,
   "metadata": {},
   "outputs": [
    {
     "name": "stdout",
     "output_type": "stream",
     "text": [
      "Interesting facts about the Moon. \n",
      " The Moon is Earth's only satellite. \n",
      " There are several interesting facts about the Moon and how it affects life here on Earth. \n",
      " On average, the Moon moves 4cm away from the Earth every year. \n",
      " This yearly drift is not significant enough to cause immediate effects on Earth. \n",
      " The highest daylight temperature of the Moon is 127 C.\n"
     ]
    }
   ],
   "source": [
    "text = \"Interesting facts about the Moon. \\n The Moon is Earth's only satellite. \\n There are several interesting facts about the Moon and how it affects life here on Earth. \\n On average, the Moon moves 4cm away from the Earth every year. \\n This yearly drift is not significant enough to cause immediate effects on Earth. \\n The highest daylight temperature of the Moon is 127 C.\"\n",
    "print(text)\n",
    "# Añade el código necesario"
   ]
  },
  {
   "cell_type": "code",
   "execution_count": 368,
   "metadata": {},
   "outputs": [
    {
     "data": {
      "text/plain": [
       "['Interesting facts about the Moon',\n",
       " ' The Moon is Earths only satellite',\n",
       " ' There are several interesting facts about the Moon and how it affects life here on Earth',\n",
       " ' On average, the Moon moves 4cm away from the Earth every year',\n",
       " ' This yearly drift is not significant enough to cause immediate effects on Earth',\n",
       " ' The highest daylight temperature of the Moon is 127 C',\n",
       " '']"
      ]
     },
     "execution_count": 368,
     "metadata": {},
     "output_type": "execute_result"
    }
   ],
   "source": [
    "text1 = 'Interesting facts about the Moon. The Moon is Earths only satellite. There are several interesting facts about the Moon and how it affects life here on Earth. On average, the Moon moves 4cm away from the Earth every year. This yearly drift is not significant enough to cause immediate effects on Earth. The highest daylight temperature of the Moon is 127 C.'\n",
    "\n",
    "parts=text1.split('.')\n",
    "parts"
   ]
  },
  {
   "cell_type": "markdown",
   "metadata": {},
   "source": [
    "Ahora, define algunas palabras clave para búsqueda que te ayudarán a determinar si una oración contiene un hecho."
   ]
  },
  {
   "cell_type": "code",
   "execution_count": 369,
   "metadata": {},
   "outputs": [
    {
     "name": "stdout",
     "output_type": "stream",
     "text": [
      "Interesting facts about the Moon\n",
      " The Moon is Earths only satellite\n",
      " There are several interesting facts about the Moon and how it affects life here on Earth\n",
      " On average, the Moon moves 4cm away from the Earth every year\n",
      " This yearly drift is not significant enough to cause immediate effects on Earth\n",
      " The highest daylight temperature of the Moon is 127 C\n",
      "\n"
     ]
    }
   ],
   "source": [
    "for x in parts:\n",
    "    print(x)"
   ]
  },
  {
   "cell_type": "code",
   "execution_count": 370,
   "metadata": {},
   "outputs": [
    {
     "name": "stdout",
     "output_type": "stream",
     "text": [
      " On average, the Moon moves 4cm away from the Earth every year\n",
      " The highest daylight temperature of the Moon is 127 C\n"
     ]
    }
   ],
   "source": [
    "# Define las palabras pista: average, temperature y distance suenan bien\n",
    "palabras=[\"average\", \"temperature\", \"distance\"]\n",
    "# Cree un bucle para imprimir solo datos sobre la Luna que estén relacionados con las palabras clave definidas anteriormente:\n",
    "# Ciclo for para recorrer la cadena\n",
    "for x in parts:\n",
    "    for y in palabras:\n",
    "        if y in x:\n",
    "            print(x)\n",
    "            break"
   ]
  },
  {
   "cell_type": "code",
   "execution_count": 371,
   "metadata": {},
   "outputs": [
    {
     "name": "stdout",
     "output_type": "stream",
     "text": [
      " The highest daylight temperature of the Moon is 127 Celcius\n"
     ]
    }
   ],
   "source": [
    "#Finalmente, actualiza el bucle(ciclo) para cambiar C a Celsius:\n",
    "# Ciclo para cambiar C a Celsius\n",
    "for x in parts:\n",
    "    if \"C\" in x:\n",
    "        x=x.replace(\"C\", \"Celcius\")\n",
    "        print(x)\n",
    "        break"
   ]
  },
  {
   "cell_type": "markdown",
   "metadata": {},
   "source": [
    "# Ejercicio 2: Formateando Cadenas"
   ]
  },
  {
   "cell_type": "markdown",
   "metadata": {},
   "source": [
    "Saber cómo dar formato a las cadenas es esencial cuando se presenta información de un programa. Hay algunas maneras diferentes de lograr esto en Python. En este ejercicio, se utilizan variables que contienen datos clave sobre la gravedad en varias lunas y luego se utilizan para dar formato e imprimir la información.\n",
    "\n",
    "El formato tiene que acomodar información sobre otras lunas, por lo que debe ser genérico.\n",
    "\n",
    "En lugar de reemplazar las variables en una cadena larga como parte de un párrafo, utiliza la información para presentarla en un formato tabular. El resultado debería verse así:\n",
    "\n",
    "Gravity Facts about Ganymede\n",
    "-------------------------------------------------------------------------------\n",
    "Planet Name: Mars\n",
    "Gravity on Ganymede: 1.4300000000000002 m/s2"
   ]
  },
  {
   "cell_type": "code",
   "execution_count": 372,
   "metadata": {},
   "outputs": [
    {
     "name": "stdout",
     "output_type": "stream",
     "text": [
      "Gravity Facts about Moon\n",
      "--------------------------------\n",
      "Planet name: Earth\n",
      "Gravity on: 1.6199999999999999\n",
      "Nombre: Moon\n"
     ]
    }
   ],
   "source": [
    "# Datos con los que vas a trabajar\n",
    "name = \"Moon\"\n",
    "gravity = 0.00162 # in kms\n",
    "planet = \"Earth\"\n",
    "# Creamos el título\n",
    "titulo=\"Gravity Facts about \"+name\n",
    "lineas=\"--------------------------------\"\n",
    "sub=\"Planet name: \" +planet\n",
    "# Creamos la plantilla\n",
    "gravity1=\"Gravity on: \" +str(gravity*1000)\n",
    "named=\"Nombre: \"+name\n",
    "# Unión de ambas cadenas\n",
    "print(titulo+'\\n' +lineas +'\\n' +sub+'\\n' +gravity1+'\\n' +named)"
   ]
  },
  {
   "cell_type": "code",
   "execution_count": 373,
   "metadata": {},
   "outputs": [
    {
     "name": "stdout",
     "output_type": "stream",
     "text": [
      "Gravity Facts about Ganímedes\n",
      "--------------------------------\n",
      "Planet name: Marte\n",
      "Gravity on: 1.4300000000000002\n",
      "Nombre: Ganímedes\n"
     ]
    }
   ],
   "source": [
    "# Datos con los que vas a trabajar\n",
    "name1= \"Ganímedes\"\n",
    "gravity2 = 0.00143 # in kms\n",
    "planet1 = \"Marte\"\n",
    "# Creamos el título\n",
    "titulo=\"Gravity Facts about \"+name1\n",
    "lineas=\"--------------------------------\"\n",
    "sub=\"Planet name: \" +planet1\n",
    "# Creamos la plantilla\n",
    "gravity3=\"Gravity on: \" +str(gravity2*1000)\n",
    "names=\"Nombre: \"+name1\n",
    "# Unión de ambas cadenas\n",
    "print(titulo+'\\n' +lineas +'\\n' +sub+'\\n' +gravity3+'\\n' +names)"
   ]
  }
 ],
 "metadata": {
  "interpreter": {
   "hash": "aee8b7b246df8f9039afb4144a1f6fd8d2ca17a180786b69acc140d282b71a49"
  },
  "kernelspec": {
   "display_name": "Python 3.10.2 64-bit",
   "language": "python",
   "name": "python3"
  },
  "language_info": {
   "codemirror_mode": {
    "name": "ipython",
    "version": 3
   },
   "file_extension": ".py",
   "mimetype": "text/x-python",
   "name": "python",
   "nbconvert_exporter": "python",
   "pygments_lexer": "ipython3",
   "version": "3.10.2"
  },
  "orig_nbformat": 4
 },
 "nbformat": 4,
 "nbformat_minor": 2
}
