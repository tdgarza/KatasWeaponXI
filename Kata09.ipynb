{
 "cells": [
  {
   "cell_type": "markdown",
   "metadata": {},
   "source": [
    "# Ejercicio: Uso de funciones en Python\n",
    "### Ejercicio 1: Trabajar con argumentos en funciones\n",
    "\n",
    "Los argumentos requeridos en las funciones se utilizan cuando las funciones necesitan que esos argumentos funcionen correctamente. En este ejercicio, construirás un informe de combustible que requiere información de varias ubicaciones de combustible en todo el cohete.\n",
    "\n",
    "TIP Dedica unos minutos para tratar de encontrar una solución. Luego desplázate hacia abajo hasta la parte inferior para ver si has logrado compilar el programa de acuerdo con las especificaciones\n",
    "\n",
    "Comienza por crear una función que necesite tres lecturas de combustible y devuelva un informe:"
   ]
  },
  {
   "cell_type": "code",
   "execution_count": 8,
   "metadata": {},
   "outputs": [
    {
     "name": "stdout",
     "output_type": "stream",
     "text": [
      "Reporte del combustible: \n",
      "\t Porcentaje Total: 1552.3333333333333 %\n",
      "\t Tanque 1: 56 %\n",
      "\t Tanque 2: 4545 %\n",
      "\t Tanque 3: 56 %\n",
      "\n",
      "Reporte del combustible: \n",
      "\t Porcentaje Total: 1552.3333333333333 %\n",
      "\t Tanque 1: 56 %\n",
      "\t Tanque 2: 4545 %\n",
      "\t Tanque 3: 56 %\n",
      "\n"
     ]
    }
   ],
   "source": [
    "# Función para leer 3 tanques de combustible y muestre el promedio\n",
    "def combustible(tanque1, tanque2, tanque3):\n",
    "    return \"Reporte del combustible: \\n\"  +\"\\t Porcentaje Total: \"+str((tanque1+tanque2+tanque3)/3)+\" %\" +\"\\n\" +\"\\t Tanque 1: \"+str((tanque1))+\" %\" +\"\\n\" +\"\\t Tanque 2: \"+str((tanque2))+\" %\" +\"\\n\" +\"\\t Tanque 3: \"+str((tanque3))+\" %\" +\"\\n\"\n",
    "\n",
    "\n",
    "tanque1=int(input(\"tanque1\"))\n",
    "tanque2=int(input(\"tanque2\"))\n",
    "tanque3=int(input(\"tanque3\"))\n",
    "#combustible(tanque1,tanque2,tanque3)\n",
    "# Llamamos a la función que genera el reporte print(funcion(tanque1, tanque2, tanque3))\n",
    "print(combustible(tanque1, tanque2, tanque3))\n",
    "\n",
    "\n",
    "def promedio(valores):\n",
    "    total=sum(valores)\n",
    "    numero=len(valores)\n",
    "    return total/numero\n",
    "\n",
    "promedio([tanque1,tanque2, tanque3])\n",
    "\n",
    "def imprimir(tanque1,tanque2,tanque3):\n",
    "    return \"Reporte del combustible: \\n\"  +\"\\t Porcentaje Total: \" +str(promedio([tanque1,tanque2,tanque3])) +\" %\" +\"\\n\" +\"\\t Tanque 1: \"+str((tanque1))+\" %\" +\"\\n\" +\"\\t Tanque 2: \"+str((tanque2))+\" %\" +\"\\n\" +\"\\t Tanque 3: \"+str((tanque3))+\" %\" +\"\\n\"\n",
    "\n",
    "print(imprimir(tanque1, tanque2, tanque3))"
   ]
  },
  {
   "cell_type": "markdown",
   "metadata": {},
   "source": [
    "# Ejercicio 2: Trabajo con argumentos de palabra clave\n",
    "### Ejercicio : Trabajar con argumentos de palabras clave en funciones\n",
    "\n",
    "En este ejercicio, construirás un informe de cohete que requiere varias piezas de información, como el tiempo hasta el destino, el combustible a la izquierda y el nombre del destino. Comienza por crear una función que creará un informe preciso de la misión:"
   ]
  },
  {
   "cell_type": "code",
   "execution_count": 26,
   "metadata": {},
   "outputs": [
    {
     "name": "stdout",
     "output_type": "stream",
     "text": [
      "Reporte de la mision: \n",
      "\t Destino: Tierra\n",
      "\t Tiempo de la mision: 276565 minutos\n",
      "\t Energia total de los tanques: 43266576 galones de energia\n",
      "Mision a Saturno\n",
      "Tiempo del viaje: 26\n",
      "Energia total para el viaje: 6000\n",
      "\n",
      "    Mision a : Marte\n",
      "    Tiempo del viaje:  26\n",
      "    Energia total para el viaje: 66666678\n",
      "    main --> 23232323 galones \n",
      "external --> 43434355 galones \n",
      "\n"
     ]
    }
   ],
   "source": [
    "# Función con un informe preciso de la misión. Considera hora de prelanzamiento, tiempo de vuelo, destino, tanque externo y tanque interno\n",
    "def informe(tiempo1, tiempo2, destino, tanqueexterno, tanqueinterno):\n",
    "    return \"Reporte de la mision: \\n\"  +\"\\t Destino: \"+ (destino)  +\"\\n\" +\"\\t Tiempo de la mision: \"+str((tiempo1+tiempo2))+\" minutos\" +\"\\n\" +\"\\t Energia total de los tanques: \"+str((tanqueexterno+tanqueinterno))+\" galones de energia\"\n",
    "\n",
    "destino=(input(\"Cual es el destino: \"))\n",
    "tiempo1=int(input(\"Cual es el tiempo de preparacion: \"))\n",
    "tiempo2=int(input(\"Cual es el tiempo de la mision: \"))\n",
    "tanqueexterno=int(input(\"Cual es la energia con la que cuenta el tanque externo: \"))\n",
    "tanqueinterno=int(input(\"Cual es la energia con la que cuenta el tanque interno: \"))\n",
    "#informe(tiempo1, tiempo2, destino, tanqueexterno, tanqueinterno)\n",
    "\n",
    "print(informe(tiempo1, tiempo2, destino, tanqueexterno, tanqueinterno))\n",
    "# Escribe tu nueva función de reporte considerando lo anterior\n",
    "\n",
    "# Escribe tu nueva función\n",
    "\n",
    "def informes(destinos, *tiempos, **tanques):\n",
    "    return \"Mision a \" + (destinos) +\"\\n\" + \"Tiempo del viaje: \" +str(sum(tiempos)) +\"\\n\" + \"Energia total para el viaje: \" +str(sum(tanques.values()))\n",
    "print(informes(\"Saturno\", 5,6,7,8, main=5000, external=1000))\n",
    "\n",
    "\n",
    "def reportemision(destinos, *tiempos, **tanques):\n",
    "    reporte=f\"\"\"\n",
    "    Mision a : {destinos}\n",
    "    Tiempo del viaje:  {sum(tiempos)}\n",
    "    Energia total para el viaje: {sum(tanques.values())}\n",
    "    \"\"\"\n",
    "    for tanque, galones in tanques.items(): \n",
    "        reporte+=f\"{tanque} --> {galones} galones \\n\"\n",
    "    return reporte\n",
    "\n",
    "destinos=(input(\"Cual es el destino: \"))\n",
    "main=int(input(\"Cual es el pirncipal? \"))\n",
    "externo=int(input(\"Cual es el tanque externo?\"))\n",
    "print(reportemision(destinos, 5,6,7,8, main=main, external=externo))"
   ]
  }
 ],
 "metadata": {
  "interpreter": {
   "hash": "aee8b7b246df8f9039afb4144a1f6fd8d2ca17a180786b69acc140d282b71a49"
  },
  "kernelspec": {
   "display_name": "Python 3.10.2 64-bit",
   "language": "python",
   "name": "python3"
  },
  "language_info": {
   "codemirror_mode": {
    "name": "ipython",
    "version": 3
   },
   "file_extension": ".py",
   "mimetype": "text/x-python",
   "name": "python",
   "nbconvert_exporter": "python",
   "pygments_lexer": "ipython3",
   "version": "3.10.2"
  },
  "orig_nbformat": 4
 },
 "nbformat": 4,
 "nbformat_minor": 2
}
